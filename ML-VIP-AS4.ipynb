{
 "cells": [
  {
   "cell_type": "code",
   "execution_count": 2,
   "metadata": {},
   "outputs": [],
   "source": [
    "import re\n",
    "from pdfminer.high_level import extract_pages, extract_text\n",
    "import pandas as pd"
   ]
  },
  {
   "cell_type": "markdown",
   "metadata": {},
   "source": [
    "Methods for scraping the articles"
   ]
  },
  {
   "cell_type": "code",
   "execution_count": 3,
   "metadata": {},
   "outputs": [],
   "source": [
    "def get_text_pdf(pdfname):\n",
    "    text = extract_text(pdfname)\n",
    "    return text\n",
    "\n",
    "def get_sentences(text):\n",
    "    pattern = r'(?<!\\w\\.\\w.)(?<![A-Z][a-z]\\.)(?<=\\.|\\?|\\!)\\s'\n",
    "    sentences = re.split(pattern, text)\n",
    "    sentences = [s.strip() for s in sentences if s.strip()]\n",
    "    return sentences\n",
    "\n",
    "def display_sentences(list):\n",
    "    for sentence in list:\n",
    "        print(sentence + \"\\n\")\n",
    "        print(\"--------------------------------------\")\n",
    "\n",
    "def dictionary_to_df(sentences):\n",
    "    return pd.DataFrame(sentences, columns=['Sentence'])\n",
    "\n",
    "def save_dataframe(df, filename):\n",
    "    try:\n",
    "        df.to_csv(filename)\n",
    "        print(\"save successful\")\n",
    "    except:\n",
    "        print(\"file not saved properly\")"
   ]
  },
  {
   "cell_type": "code",
   "execution_count": 4,
   "metadata": {},
   "outputs": [],
   "source": [
    "articles_path = '/Users/prasunbanerjee/Desktop/UniversityMaterials/Research/FSIL/data/bkSamples.csv'"
   ]
  },
  {
   "cell_type": "code",
   "execution_count": 48,
   "metadata": {},
   "outputs": [
    {
     "data": {
      "text/plain": [
       "'Berkshire Hathaway Stock Is Telling Investors Exactly What Buffett Wants'"
      ]
     },
     "execution_count": 48,
     "metadata": {},
     "output_type": "execute_result"
    }
   ],
   "source": [
    "df = pd.read_csv(articles_path)\n",
    "df['Article_title'][5]"
   ]
  },
  {
   "cell_type": "code",
   "execution_count": 40,
   "metadata": {},
   "outputs": [],
   "source": [
    "#constructing the dataframes from each article\n",
    "def split_articles(df):\n",
    "    return df['Article'].apply(get_sentences).tolist()\n",
    "\n",
    "def sentences_to_df(data):\n",
    "    all_rows = []\n",
    "    for idx, sentences in enumerate(data):\n",
    "        for sentence in sentences:\n",
    "            all_rows.append({'Article_ID': idx + 1, 'Sentence': sentence})\n",
    "    \n",
    "    return pd.DataFrame(all_rows)\n"
   ]
  },
  {
   "cell_type": "code",
   "execution_count": 41,
   "metadata": {},
   "outputs": [
    {
     "data": {
      "text/html": [
       "<div>\n",
       "<style scoped>\n",
       "    .dataframe tbody tr th:only-of-type {\n",
       "        vertical-align: middle;\n",
       "    }\n",
       "\n",
       "    .dataframe tbody tr th {\n",
       "        vertical-align: top;\n",
       "    }\n",
       "\n",
       "    .dataframe thead th {\n",
       "        text-align: right;\n",
       "    }\n",
       "</style>\n",
       "<table border=\"1\" class=\"dataframe\">\n",
       "  <thead>\n",
       "    <tr style=\"text-align: right;\">\n",
       "      <th></th>\n",
       "      <th>Article_ID</th>\n",
       "      <th>Sentence</th>\n",
       "    </tr>\n",
       "  </thead>\n",
       "  <tbody>\n",
       "    <tr>\n",
       "      <th>0</th>\n",
       "      <td>1</td>\n",
       "      <td>Investors have been inundated with headlines a...</td>\n",
       "    </tr>\n",
       "    <tr>\n",
       "      <th>1</th>\n",
       "      <td>1</td>\n",
       "      <td>The Dow Jones Industrial Average, the S&amp;P 500,...</td>\n",
       "    </tr>\n",
       "    <tr>\n",
       "      <th>2</th>\n",
       "      <td>1</td>\n",
       "      <td>Famed investor Warren Buffett has counseled in...</td>\n",
       "    </tr>\n",
       "    <tr>\n",
       "      <th>3</th>\n",
       "      <td>1</td>\n",
       "      <td>Be greedy when others are fearful.\" With that ...</td>\n",
       "    </tr>\n",
       "    <tr>\n",
       "      <th>4</th>\n",
       "      <td>1</td>\n",
       "      <td>Image source: Apple.</td>\n",
       "    </tr>\n",
       "    <tr>\n",
       "      <th>...</th>\n",
       "      <td>...</td>\n",
       "      <td>...</td>\n",
       "    </tr>\n",
       "    <tr>\n",
       "      <th>433</th>\n",
       "      <td>10</td>\n",
       "      <td>As of this writing, he owned shares in BABA.</td>\n",
       "    </tr>\n",
       "    <tr>\n",
       "      <th>434</th>\n",
       "      <td>10</td>\n",
       "      <td>To follow the value of cryptocurrencies bookma...</td>\n",
       "    </tr>\n",
       "    <tr>\n",
       "      <th>435</th>\n",
       "      <td>10</td>\n",
       "      <td>appeared first on InvestorPlace .</td>\n",
       "    </tr>\n",
       "    <tr>\n",
       "      <th>436</th>\n",
       "      <td>10</td>\n",
       "      <td>The views and opinions expressed herein are th...</td>\n",
       "    </tr>\n",
       "    <tr>\n",
       "      <th>437</th>\n",
       "      <td>10</td>\n",
       "      <td>The views and opinions expressed herein are th...</td>\n",
       "    </tr>\n",
       "  </tbody>\n",
       "</table>\n",
       "<p>438 rows × 2 columns</p>\n",
       "</div>"
      ],
      "text/plain": [
       "     Article_ID                                           Sentence\n",
       "0             1  Investors have been inundated with headlines a...\n",
       "1             1  The Dow Jones Industrial Average, the S&P 500,...\n",
       "2             1  Famed investor Warren Buffett has counseled in...\n",
       "3             1  Be greedy when others are fearful.\" With that ...\n",
       "4             1                               Image source: Apple.\n",
       "..          ...                                                ...\n",
       "433          10       As of this writing, he owned shares in BABA.\n",
       "434          10  To follow the value of cryptocurrencies bookma...\n",
       "435          10                  appeared first on InvestorPlace .\n",
       "436          10  The views and opinions expressed herein are th...\n",
       "437          10  The views and opinions expressed herein are th...\n",
       "\n",
       "[438 rows x 2 columns]"
      ]
     },
     "execution_count": 41,
     "metadata": {},
     "output_type": "execute_result"
    }
   ],
   "source": [
    "sentences_list = split_articles(df)\n",
    "df_sentences = sentences_to_df(sentences_list)\n",
    "df_sentences"
   ]
  },
  {
   "cell_type": "code",
   "execution_count": 42,
   "metadata": {},
   "outputs": [],
   "source": [
    "df_sentences.to_csv('BKRSentences.csv', index=False)"
   ]
  }
 ],
 "metadata": {
  "kernelspec": {
   "display_name": "base",
   "language": "python",
   "name": "python3"
  },
  "language_info": {
   "codemirror_mode": {
    "name": "ipython",
    "version": 3
   },
   "file_extension": ".py",
   "mimetype": "text/x-python",
   "name": "python",
   "nbconvert_exporter": "python",
   "pygments_lexer": "ipython3",
   "version": "3.12.7"
  }
 },
 "nbformat": 4,
 "nbformat_minor": 2
}
